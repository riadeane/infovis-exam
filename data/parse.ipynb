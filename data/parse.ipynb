{
 "cells": [
  {
   "cell_type": "code",
   "execution_count": 2,
   "metadata": {},
   "outputs": [],
   "source": [
    "import pandas as pd"
   ]
  },
  {
   "cell_type": "code",
   "execution_count": 3,
   "metadata": {},
   "outputs": [],
   "source": [
    "fish = pd.read_csv(\"fish.csv\")\n",
    "insects = pd.read_csv(\"insects.csv\")\n",
    "sea_creatures = pd.read_csv(\"sea_creatures.csv\")"
   ]
  },
  {
   "cell_type": "code",
   "execution_count": 4,
   "metadata": {},
   "outputs": [],
   "source": [
    "months_year = [\"NH Jan\", \"NH Feb\", \"NH Mar\", \"NH Apr\", \"NH May\", \"NH Jun\", \"NH Jul\", \"NH Aug\", \"NH Sep\", \"NH Oct\", \"NH Nov\", \"NH Dec\", \"SH Jan\", \"SH Feb\", \"SH Mar\", \"SH Apr\", \"SH May\", \"SH Jun\", \"SH Jul\", \"SH Aug\", \"SH Sep\", \"SH Oct\", \"SH Nov\", \"SH Dec\"]\n",
    "months = pd.DataFrame(months_year)"
   ]
  },
  {
   "cell_type": "code",
   "execution_count": 5,
   "metadata": {},
   "outputs": [],
   "source": [
    "\n",
    "fish_months = fish[months_year]\n",
    "avai_fish = pd.DataFrame(fish_months[fish[months_year] != \"NA\"].count())\n",
    "avai_fish.columns = [\"Fish\"]\n",
    "insects_months = insects[months_year]\n",
    "avai_ins = pd.DataFrame(insects_months[insects[months_year] != \"NA\"].count())\n",
    "avai_ins.columns = [\"Insects\"]\n",
    "sc_months = sea_creatures[months_year]\n",
    "avai_sc = pd.DataFrame(sc_months[sea_creatures[months_year] != \"NA\"].count())\n",
    "avai_sc.columns = [\"Sea Creatures\"]"
   ]
  },
  {
   "cell_type": "code",
   "execution_count": 6,
   "metadata": {},
   "outputs": [],
   "source": [
    "total = pd.concat([avai_fish, avai_ins, avai_sc], axis=1)\n",
    "total.to_csv(\"availability.csv\")"
   ]
  }
 ],
 "metadata": {
  "interpreter": {
   "hash": "72b04fe83e34902d0f0df3f2372e1843f09efb168452ea5a3b664d02d8339893"
  },
  "kernelspec": {
   "display_name": "Python 3.7.4 64-bit",
   "language": "python",
   "name": "python3"
  },
  "language_info": {
   "codemirror_mode": {
    "name": "ipython",
    "version": 3
   },
   "file_extension": ".py",
   "mimetype": "text/x-python",
   "name": "python",
   "nbconvert_exporter": "python",
   "pygments_lexer": "ipython3",
   "version": "3.7.4"
  },
  "orig_nbformat": 4
 },
 "nbformat": 4,
 "nbformat_minor": 2
}
